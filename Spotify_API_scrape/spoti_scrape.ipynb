{
 "cells": [
  {
   "cell_type": "code",
   "execution_count": 1,
   "metadata": {},
   "outputs": [],
   "source": [
    "import spotipy\n",
    "from spotipy.oauth2 import SpotifyClientCredentials\n",
    "import pandas as pd\n",
    "import musicbrainzngs"
   ]
  },
  {
   "cell_type": "code",
   "execution_count": null,
   "metadata": {},
   "outputs": [],
   "source": [
    "# on Spotify dev site, create new app to find client_id and client_secret id\n",
    "\n",
    "client_id = \"\"\n",
    "client_secret = \"\"\n",
    "sp = spotipy.Spotify(auth_manager=SpotifyClientCredentials(client_id=client_id, client_secret=client_secret))"
   ]
  },
  {
   "cell_type": "code",
   "execution_count": 3,
   "metadata": {},
   "outputs": [],
   "source": [
    "sp = spotipy.Spotify(auth_manager=SpotifyClientCredentials(client_id=client_id, client_secret=client_secret))"
   ]
  },
  {
   "cell_type": "code",
   "execution_count": null,
   "metadata": {},
   "outputs": [
    {
     "name": "stderr",
     "output_type": "stream",
     "text": [
      "HTTP Error for GET to https://api.spotify.com/v1/me/ with Params: {} returned 401 due to Valid user authentication required\n"
     ]
    },
    {
     "ename": "SpotifyException",
     "evalue": "http status: 401, code: -1 - https://api.spotify.com/v1/me/:\n Valid user authentication required, reason: None",
     "output_type": "error",
     "traceback": [
      "\u001b[0;31m---------------------------------------------------------------------------\u001b[0m",
      "\u001b[0;31mHTTPError\u001b[0m                                 Traceback (most recent call last)",
      "File \u001b[0;32m~/miniconda3/envs/sta220/lib/python3.8/site-packages/spotipy/client.py:274\u001b[0m, in \u001b[0;36mSpotify._internal_call\u001b[0;34m(self, method, url, payload, params)\u001b[0m\n\u001b[1;32m    269\u001b[0m response \u001b[38;5;241m=\u001b[39m \u001b[38;5;28mself\u001b[39m\u001b[38;5;241m.\u001b[39m_session\u001b[38;5;241m.\u001b[39mrequest(\n\u001b[1;32m    270\u001b[0m     method, url, headers\u001b[38;5;241m=\u001b[39mheaders, proxies\u001b[38;5;241m=\u001b[39m\u001b[38;5;28mself\u001b[39m\u001b[38;5;241m.\u001b[39mproxies,\n\u001b[1;32m    271\u001b[0m     timeout\u001b[38;5;241m=\u001b[39m\u001b[38;5;28mself\u001b[39m\u001b[38;5;241m.\u001b[39mrequests_timeout, \u001b[38;5;241m*\u001b[39m\u001b[38;5;241m*\u001b[39margs\n\u001b[1;32m    272\u001b[0m )\n\u001b[0;32m--> 274\u001b[0m \u001b[43mresponse\u001b[49m\u001b[38;5;241;43m.\u001b[39;49m\u001b[43mraise_for_status\u001b[49m\u001b[43m(\u001b[49m\u001b[43m)\u001b[49m\n\u001b[1;32m    275\u001b[0m results \u001b[38;5;241m=\u001b[39m response\u001b[38;5;241m.\u001b[39mjson()\n",
      "File \u001b[0;32m~/miniconda3/envs/sta220/lib/python3.8/site-packages/requests/models.py:1024\u001b[0m, in \u001b[0;36mResponse.raise_for_status\u001b[0;34m(self)\u001b[0m\n\u001b[1;32m   1023\u001b[0m \u001b[38;5;28;01mif\u001b[39;00m http_error_msg:\n\u001b[0;32m-> 1024\u001b[0m     \u001b[38;5;28;01mraise\u001b[39;00m HTTPError(http_error_msg, response\u001b[38;5;241m=\u001b[39m\u001b[38;5;28mself\u001b[39m)\n",
      "\u001b[0;31mHTTPError\u001b[0m: 401 Client Error: Unauthorized for url: https://api.spotify.com/v1/me/",
      "\nDuring handling of the above exception, another exception occurred:\n",
      "\u001b[0;31mSpotifyException\u001b[0m                          Traceback (most recent call last)",
      "Cell \u001b[0;32mIn[4], line 1\u001b[0m\n\u001b[0;32m----> 1\u001b[0m \u001b[43msp\u001b[49m\u001b[38;5;241;43m.\u001b[39;49m\u001b[43mme\u001b[49m\u001b[43m(\u001b[49m\u001b[43m)\u001b[49m  \u001b[38;5;66;03m# This fetches your account info and is a quick way to check API access.\u001b[39;00m\n",
      "File \u001b[0;32m~/miniconda3/envs/sta220/lib/python3.8/site-packages/spotipy/client.py:1254\u001b[0m, in \u001b[0;36mSpotify.me\u001b[0;34m(self)\u001b[0m\n\u001b[1;32m   1250\u001b[0m \u001b[38;5;28;01mdef\u001b[39;00m \u001b[38;5;21mme\u001b[39m(\u001b[38;5;28mself\u001b[39m):\n\u001b[1;32m   1251\u001b[0m \u001b[38;5;250m    \u001b[39m\u001b[38;5;124;03m\"\"\" Get detailed profile information about the current user.\u001b[39;00m\n\u001b[1;32m   1252\u001b[0m \u001b[38;5;124;03m        An alias for the 'current_user' method.\u001b[39;00m\n\u001b[1;32m   1253\u001b[0m \u001b[38;5;124;03m    \"\"\"\u001b[39;00m\n\u001b[0;32m-> 1254\u001b[0m     \u001b[38;5;28;01mreturn\u001b[39;00m \u001b[38;5;28;43mself\u001b[39;49m\u001b[38;5;241;43m.\u001b[39;49m\u001b[43m_get\u001b[49m\u001b[43m(\u001b[49m\u001b[38;5;124;43m\"\u001b[39;49m\u001b[38;5;124;43mme/\u001b[39;49m\u001b[38;5;124;43m\"\u001b[39;49m\u001b[43m)\u001b[49m\n",
      "File \u001b[0;32m~/miniconda3/envs/sta220/lib/python3.8/site-packages/spotipy/client.py:324\u001b[0m, in \u001b[0;36mSpotify._get\u001b[0;34m(self, url, args, payload, **kwargs)\u001b[0m\n\u001b[1;32m    321\u001b[0m \u001b[38;5;28;01mif\u001b[39;00m args:\n\u001b[1;32m    322\u001b[0m     kwargs\u001b[38;5;241m.\u001b[39mupdate(args)\n\u001b[0;32m--> 324\u001b[0m \u001b[38;5;28;01mreturn\u001b[39;00m \u001b[38;5;28;43mself\u001b[39;49m\u001b[38;5;241;43m.\u001b[39;49m\u001b[43m_internal_call\u001b[49m\u001b[43m(\u001b[49m\u001b[38;5;124;43m\"\u001b[39;49m\u001b[38;5;124;43mGET\u001b[39;49m\u001b[38;5;124;43m\"\u001b[39;49m\u001b[43m,\u001b[49m\u001b[43m \u001b[49m\u001b[43murl\u001b[49m\u001b[43m,\u001b[49m\u001b[43m \u001b[49m\u001b[43mpayload\u001b[49m\u001b[43m,\u001b[49m\u001b[43m \u001b[49m\u001b[43mkwargs\u001b[49m\u001b[43m)\u001b[49m\n",
      "File \u001b[0;32m~/miniconda3/envs/sta220/lib/python3.8/site-packages/spotipy/client.py:294\u001b[0m, in \u001b[0;36mSpotify._internal_call\u001b[0;34m(self, method, url, payload, params)\u001b[0m\n\u001b[1;32m    289\u001b[0m         reason \u001b[38;5;241m=\u001b[39m \u001b[38;5;28;01mNone\u001b[39;00m\n\u001b[1;32m    291\u001b[0m     logger\u001b[38;5;241m.\u001b[39merror(\u001b[38;5;124mf\u001b[39m\u001b[38;5;124m\"\u001b[39m\u001b[38;5;124mHTTP Error for \u001b[39m\u001b[38;5;132;01m{\u001b[39;00mmethod\u001b[38;5;132;01m}\u001b[39;00m\u001b[38;5;124m to \u001b[39m\u001b[38;5;132;01m{\u001b[39;00murl\u001b[38;5;132;01m}\u001b[39;00m\u001b[38;5;124m with Params: \u001b[39m\u001b[38;5;124m\"\u001b[39m\n\u001b[1;32m    292\u001b[0m                  \u001b[38;5;124mf\u001b[39m\u001b[38;5;124m\"\u001b[39m\u001b[38;5;132;01m{\u001b[39;00margs\u001b[38;5;241m.\u001b[39mget(\u001b[38;5;124m'\u001b[39m\u001b[38;5;124mparams\u001b[39m\u001b[38;5;124m'\u001b[39m)\u001b[38;5;132;01m}\u001b[39;00m\u001b[38;5;124m returned \u001b[39m\u001b[38;5;132;01m{\u001b[39;00mresponse\u001b[38;5;241m.\u001b[39mstatus_code\u001b[38;5;132;01m}\u001b[39;00m\u001b[38;5;124m due to \u001b[39m\u001b[38;5;132;01m{\u001b[39;00mmsg\u001b[38;5;132;01m}\u001b[39;00m\u001b[38;5;124m\"\u001b[39m)\n\u001b[0;32m--> 294\u001b[0m     \u001b[38;5;28;01mraise\u001b[39;00m SpotifyException(\n\u001b[1;32m    295\u001b[0m         response\u001b[38;5;241m.\u001b[39mstatus_code,\n\u001b[1;32m    296\u001b[0m         \u001b[38;5;241m-\u001b[39m\u001b[38;5;241m1\u001b[39m,\n\u001b[1;32m    297\u001b[0m         \u001b[38;5;124mf\u001b[39m\u001b[38;5;124m\"\u001b[39m\u001b[38;5;132;01m{\u001b[39;00mresponse\u001b[38;5;241m.\u001b[39murl\u001b[38;5;132;01m}\u001b[39;00m\u001b[38;5;124m:\u001b[39m\u001b[38;5;130;01m\\n\u001b[39;00m\u001b[38;5;124m \u001b[39m\u001b[38;5;132;01m{\u001b[39;00mmsg\u001b[38;5;132;01m}\u001b[39;00m\u001b[38;5;124m\"\u001b[39m,\n\u001b[1;32m    298\u001b[0m         reason\u001b[38;5;241m=\u001b[39mreason,\n\u001b[1;32m    299\u001b[0m         headers\u001b[38;5;241m=\u001b[39mresponse\u001b[38;5;241m.\u001b[39mheaders,\n\u001b[1;32m    300\u001b[0m     )\n\u001b[1;32m    301\u001b[0m \u001b[38;5;28;01mexcept\u001b[39;00m requests\u001b[38;5;241m.\u001b[39mexceptions\u001b[38;5;241m.\u001b[39mRetryError \u001b[38;5;28;01mas\u001b[39;00m retry_error:\n\u001b[1;32m    302\u001b[0m     request \u001b[38;5;241m=\u001b[39m retry_error\u001b[38;5;241m.\u001b[39mrequest\n",
      "\u001b[0;31mSpotifyException\u001b[0m: http status: 401, code: -1 - https://api.spotify.com/v1/me/:\n Valid user authentication required, reason: None"
     ]
    }
   ],
   "source": [
    "# check API throttling issue\n",
    "\n",
    "sp.me()  # This fetches your account info and is a quick way to check API access."
   ]
  },
  {
   "cell_type": "code",
   "execution_count": null,
   "metadata": {},
   "outputs": [],
   "source": [
    "playlist_id = \"3pME5KrheLTzGFpX9yaLZC\" # Billboard Year End Hot 100 1980s\n"
   ]
  },
  {
   "cell_type": "code",
   "execution_count": 53,
   "metadata": {},
   "outputs": [],
   "source": [
    "all_data = []"
   ]
  },
  {
   "cell_type": "code",
   "execution_count": null,
   "metadata": {},
   "outputs": [],
   "source": [
    "def get_playlist_data(playlist_id):\n",
    "\n",
    "    track_data = []\n",
    "    playlist = sp.playlist_tracks(playlist_id)\n",
    "\n",
    "    for item in playlist[\"items\"]:\n",
    "        track = item[\"track\"]\n",
    "        track_name = track[\"name\"]\n",
    "        artist_name = \", \".join([artist[\"name\"] for artist in track[\"artists\"]])\n",
    "\n",
    "        genres = []\n",
    "        for artist in track[\"artists\"]:\n",
    "            artist_info = sp.artist(artist[\"id\"])\n",
    "            if artist_info[\"genres\"]:\n",
    "                genres.extend(artist_info[\"genres\"])\n",
    "\n",
    "        genres = \", \".join(set(genres)) if genres else \"Unknown\"\n",
    "        track_data.append([track_name, artist_name, genres])\n",
    "\n",
    "    return track_data"
   ]
  },
  {
   "cell_type": "code",
   "execution_count": null,
   "metadata": {},
   "outputs": [
    {
     "ename": "NameError",
     "evalue": "name 'get_playlist_data' is not defined",
     "output_type": "error",
     "traceback": [
      "\u001b[0;31m---------------------------------------------------------------------------\u001b[0m",
      "\u001b[0;31mNameError\u001b[0m                                 Traceback (most recent call last)",
      "Cell \u001b[0;32mIn[54], line 1\u001b[0m\n\u001b[0;32m----> 1\u001b[0m tracks_from_80s \u001b[38;5;241m=\u001b[39m \u001b[43mget_playlist_data\u001b[49m(playlist_id)\n",
      "\u001b[0;31mNameError\u001b[0m: name 'get_playlist_data' is not defined"
     ]
    }
   ],
   "source": [
    "track_from_80s = get_playlist_data(playlist_id)"
   ]
  },
  {
   "cell_type": "markdown",
   "metadata": {},
   "source": [
    "# Scrape from MusicBrainz for Artist Genres\n",
    "\n",
    "Only half of Spotify artist genre tags returned with value, so scrape rest of information from MusicBrainz by finding artist ID, sorting by \"count\" (defined by the number of users that tagged that artist with that specific tag), and attach #1 tag. For multiple artists on track, save #1 tag per artist."
   ]
  },
  {
   "cell_type": "code",
   "execution_count": 32,
   "metadata": {},
   "outputs": [],
   "source": [
    "musicbrainzngs.set_useragent(\"TrendScraper\", \"1.0\", \"ishiharay15@gmail.com\")"
   ]
  },
  {
   "cell_type": "code",
   "execution_count": null,
   "metadata": {},
   "outputs": [],
   "source": [
    "def get_artist_genre(artist_name):\n",
    "    try:\n",
    "\n",
    "        result = musicbrainzngs.search_artists(artist=artist_name, limit=1)\n",
    "\n",
    "        if \"artist-list\" in result and len(result[\"artist-list\"]) > 0:\n",
    "            artist = result[\"artist-list\"][0]\n",
    "            artist_id = artist[\"id\"]\n",
    "\n",
    "            artist_info = musicbrainzngs.get_artist_by_id(artist_id, includes=[\"tags\"])\n",
    "\n",
    "            # Extract genres with counts\n",
    "            tag_list = artist_info.get(\"artist\", {}).get(\"tag-list\", [])\n",
    "            sorted_tags = sorted(tag_list, key=lambda x: int(x[\"count\"]), reverse=True) if tag_list else []\n",
    "\n",
    "            genres = [tag[\"name\"] for tag in sorted_tags]\n",
    "\n",
    "            return \", \".join(genres) if genres else \"Unknown\"\n",
    "\n",
    "        return \"Unknown\"\n",
    "    \n",
    "    except Exception as e:\n",
    "        print(f\"Error fetching genre for {artist_name}: {e}\")\n",
    "        return \"Unknown\""
   ]
  },
  {
   "cell_type": "code",
   "execution_count": null,
   "metadata": {},
   "outputs": [],
   "source": [
    "def update_unknown_genres(df):\n",
    "    \n",
    "    for index, row in df.iterrows():\n",
    "        if row[\"Genres\"] == \"Unknown\":\n",
    "            artist_names = row[\"Artists\"].split(\", \")\n",
    "            genre_list = []\n",
    "\n",
    "            for artist_name in artist_names:\n",
    "                genres = get_artist_genre(artist_name)\n",
    "                top_genre = genres.split(\", \")[0] if genres != \"Unknown\" else \"Unknown\"\n",
    "\n",
    "                if top_genre != \"Unknown\":\n",
    "                    genre_list.append(top_genre)\n",
    "\n",
    "            if genre_list:\n",
    "                df.at[index, \"Genres\"] = \", \".join(genre_list)\n",
    "\n",
    "    return df\n"
   ]
  },
  {
   "cell_type": "code",
   "execution_count": 51,
   "metadata": {},
   "outputs": [
    {
     "data": {
      "text/html": [
       "<div>\n",
       "<style scoped>\n",
       "    .dataframe tbody tr th:only-of-type {\n",
       "        vertical-align: middle;\n",
       "    }\n",
       "\n",
       "    .dataframe tbody tr th {\n",
       "        vertical-align: top;\n",
       "    }\n",
       "\n",
       "    .dataframe thead th {\n",
       "        text-align: right;\n",
       "    }\n",
       "</style>\n",
       "<table border=\"1\" class=\"dataframe\">\n",
       "  <thead>\n",
       "    <tr style=\"text-align: right;\">\n",
       "      <th></th>\n",
       "      <th>Track Name</th>\n",
       "      <th>Artists</th>\n",
       "      <th>Genres</th>\n",
       "    </tr>\n",
       "  </thead>\n",
       "  <tbody>\n",
       "    <tr>\n",
       "      <th>0</th>\n",
       "      <td>Too Close</td>\n",
       "      <td>Next</td>\n",
       "      <td>r&amp;b</td>\n",
       "    </tr>\n",
       "    <tr>\n",
       "      <th>1</th>\n",
       "      <td>The Boy Is Mine</td>\n",
       "      <td>Brandy, Monica</td>\n",
       "      <td>r&amp;b</td>\n",
       "    </tr>\n",
       "    <tr>\n",
       "      <th>2</th>\n",
       "      <td>You're Still The One</td>\n",
       "      <td>Shania Twain</td>\n",
       "      <td>country</td>\n",
       "    </tr>\n",
       "    <tr>\n",
       "      <th>3</th>\n",
       "      <td>Truly Madly Deeply</td>\n",
       "      <td>Savage Garden</td>\n",
       "      <td>pop</td>\n",
       "    </tr>\n",
       "    <tr>\n",
       "      <th>4</th>\n",
       "      <td>How Do I Live</td>\n",
       "      <td>LeAnn Rimes</td>\n",
       "      <td>country</td>\n",
       "    </tr>\n",
       "    <tr>\n",
       "      <th>...</th>\n",
       "      <td>...</td>\n",
       "      <td>...</td>\n",
       "      <td>...</td>\n",
       "    </tr>\n",
       "    <tr>\n",
       "      <th>92</th>\n",
       "      <td>4 Seasons Of Loneliness</td>\n",
       "      <td>Boyz II Men</td>\n",
       "      <td>new jack swing, quiet storm, r&amp;b</td>\n",
       "    </tr>\n",
       "    <tr>\n",
       "      <th>93</th>\n",
       "      <td>Father</td>\n",
       "      <td>LL COOL J</td>\n",
       "      <td>east coast hip hop</td>\n",
       "    </tr>\n",
       "    <tr>\n",
       "      <th>94</th>\n",
       "      <td>Thinkin' Bout It</td>\n",
       "      <td>Gerald Levert</td>\n",
       "      <td>quiet storm, smooth r&amp;b</td>\n",
       "    </tr>\n",
       "    <tr>\n",
       "      <th>95</th>\n",
       "      <td>Nobody's Supposed to Be Here</td>\n",
       "      <td>Deborah Cox</td>\n",
       "      <td>2008 universal fire victim</td>\n",
       "    </tr>\n",
       "    <tr>\n",
       "      <th>96</th>\n",
       "      <td>Westside</td>\n",
       "      <td>TQ</td>\n",
       "      <td>rnb</td>\n",
       "    </tr>\n",
       "  </tbody>\n",
       "</table>\n",
       "<p>97 rows × 3 columns</p>\n",
       "</div>"
      ],
      "text/plain": [
       "                      Track Name         Artists  \\\n",
       "0                      Too Close            Next   \n",
       "1                The Boy Is Mine  Brandy, Monica   \n",
       "2           You're Still The One    Shania Twain   \n",
       "3             Truly Madly Deeply   Savage Garden   \n",
       "4                  How Do I Live     LeAnn Rimes   \n",
       "..                           ...             ...   \n",
       "92       4 Seasons Of Loneliness     Boyz II Men   \n",
       "93                        Father       LL COOL J   \n",
       "94              Thinkin' Bout It   Gerald Levert   \n",
       "95  Nobody's Supposed to Be Here     Deborah Cox   \n",
       "96                      Westside              TQ   \n",
       "\n",
       "                              Genres  \n",
       "0                                r&b  \n",
       "1                                r&b  \n",
       "2                            country  \n",
       "3                                pop  \n",
       "4                            country  \n",
       "..                               ...  \n",
       "92  new jack swing, quiet storm, r&b  \n",
       "93                east coast hip hop  \n",
       "94           quiet storm, smooth r&b  \n",
       "95        2008 universal fire victim  \n",
       "96                               rnb  \n",
       "\n",
       "[97 rows x 3 columns]"
      ]
     },
     "execution_count": 51,
     "metadata": {},
     "output_type": "execute_result"
    }
   ],
   "source": [
    "df"
   ]
  },
  {
   "cell_type": "code",
   "execution_count": 52,
   "metadata": {},
   "outputs": [
    {
     "name": "stdout",
     "output_type": "stream",
     "text": [
      "Number of tracks with unknown genre: 1\n"
     ]
    }
   ],
   "source": [
    "unknown_count = (df[\"Genres\"] == \"Unknown\").sum()\n",
    "print(f\"Number of tracks with unknown genre: {unknown_count}\")"
   ]
  },
  {
   "cell_type": "markdown",
   "metadata": {},
   "source": [
    "# Scrape Year End Hot 100 Account for all playlists 1946 - 2024\n",
    "\n",
    "CSV with all playlist titles and IDs saved at \"year_end_hot_100_playlists.csv\""
   ]
  },
  {
   "cell_type": "code",
   "execution_count": null,
   "metadata": {},
   "outputs": [
    {
     "name": "stdout",
     "output_type": "stream",
     "text": [
      "Playlist: 2024 Billboard Year End Hot 100 (ID: 1LSXxWhYAVWWfb847gLIcD, Tracks: 100)\n",
      "Playlist: 2023 Billboard Year End Hot 100 (ID: 2tpSdD4wfe5elx7iMtxDcF, Tracks: 100)\n",
      "Playlist: 2022 Billboard Year End Hot 100 (ID: 1P39I532Z3TWDw2ggm3Y7k, Tracks: 100)\n",
      "Playlist: 2021 Billboard Year End Hot 100 (ID: 5pT9DvpEMYtkINr2vOtwmQ, Tracks: 100)\n",
      "Playlist: 2020 Billboard Year End Hot 100 (ID: 7iOLp82ZbOu5I04TrOBeru, Tracks: 100)\n",
      "Playlist: 2019 Billboard Year End Hot 100 (ID: 60uWnDLPSMaOXrJOmm1BCn, Tracks: 100)\n",
      "Playlist: 2018 Billboard Year End Hot 100 (ID: 3fG7cr6o7osDoorF7qnb1g, Tracks: 100)\n",
      "Playlist: 2017 Billboard Year End Hot 100 (ID: 0mxbQZjOVjC8xFuqBExatn, Tracks: 100)\n",
      "Playlist: 2016 Billboard Year End Hot 100 (ID: 1KewXQLrI99SJB1fQwx8Sp, Tracks: 100)\n",
      "Playlist: 2015 Billboard Year End Hot 100 (ID: 6tYE3NllVJ1yRxZPWkMhAU, Tracks: 100)\n",
      "Playlist: 2014 Billboard Year End Hot 100 (ID: 1qaEDj0b6V16jR197rBzmR, Tracks: 100)\n",
      "Playlist: 2013 Billboard Year End Hot 100 (ID: 3MOm2n36QOgjHQFJgShW1U, Tracks: 100)\n",
      "Playlist: 2012 Billboard Year End Hot 100 (ID: 7JeO0tsG8jjQDf8TbpduWy, Tracks: 100)\n",
      "Playlist: 2011 Billboard Year End Hot 100 (ID: 2MKAzW35dksXrGJDkVqPQR, Tracks: 100)\n",
      "Playlist: 2010 Billboard Year End Hot 100 (ID: 3wZJGwQgLkqfuUbUtUq2we, Tracks: 100)\n",
      "Playlist: 2009 Billboard Year End Hot 100 (ID: 59pEYUpfyXGPvJSdAHBSn3, Tracks: 100)\n",
      "Playlist: 2008 Billboard Year End Hot 100 (ID: 6TV9uCkhaJsmR8EwXLJ3cx, Tracks: 100)\n",
      "Playlist: 2007 Billboard Year End Hot 100 (ID: 2AK4JLpQNAGkxjpMTTPaFR, Tracks: 100)\n",
      "Playlist: 2006 Billboard Year End Hot 100 (ID: 1N8cxLQ0RMPYfhoO9XnI1B, Tracks: 100)\n",
      "Playlist: 2005 Billboard Year End Hot 100 (ID: 6jSq4f2XHtaoLNe9J7rLBu, Tracks: 100)\n",
      "Playlist: 2004 Billboard Year End Hot 100 (ID: 6IgLCMn14ybVlpa73JJbw9, Tracks: 100)\n",
      "Playlist: 2003 Billboard Year End Hot 100 (ID: 0dRJfsFu7pq8Rf3gRi68dT, Tracks: 100)\n",
      "Playlist: 2002 Billboard Year End Hot 100 (ID: 2snvDm6FM6bM6vYzS8P87u, Tracks: 100)\n",
      "Playlist: 2001 Billboard Year End Hot 100 (ID: 2qIWHdREamhcK4TQyllKme, Tracks: 99)\n",
      "Playlist: 2000 Billboard Year End Hot 100 (ID: 0fyq25XlBpeda5ts0uk6Ay, Tracks: 100)\n",
      "Playlist: 1999 Billboard Year End Hot 100 (ID: 5jpUH5TUnr6xL3fGAyhfKx, Tracks: 100)\n",
      "Playlist: 1998 Billboard Year End Hot 100 (ID: 6I6FXewHqeIzEOv4CkO1lE, Tracks: 99)\n",
      "Playlist: 1997 Billboard Year End Hot 100 (ID: 3zGvhyvqPvGDNjIMLsb5E2, Tracks: 98)\n",
      "Playlist: 1996 Billboard Year End Hot 100 (ID: 55Ax1uJ6dbkqSJ1M0EXQqY, Tracks: 100)\n",
      "Playlist: 1995 Billboard Year End Hot 100 (ID: 6akGkc1UzBXAbafaxavrjq, Tracks: 97)\n",
      "Playlist: 1994 Billboard Year End Hot 100 (ID: 2mFx987o8MYxE3h1arn46H, Tracks: 100)\n",
      "Playlist: 1993 Billboard Year End Hot 100 (ID: 1QAkKJfCOEkSj0lO6WGIbW, Tracks: 100)\n",
      "Playlist: 1992 Billboard Year End Hot 100 (ID: 2zXSQDVOYux6H5XIuPnwhu, Tracks: 100)\n",
      "Playlist: 1991 Billboard Year End Hot 100 (ID: 3eA1KG4AlckRMuIPWY6xDk, Tracks: 99)\n",
      "Playlist: 1990 Billboard Year End Hot 100 (ID: 2QUVuRpI1mFGplGyQAesU5, Tracks: 98)\n",
      "Playlist: 1989 Billboard Year End Hot 100 (ID: 52o7tTI4VsA4UscRgTtYwi, Tracks: 99)\n",
      "Playlist: 1988 Billboard Year End Hot 100 (ID: 7aay1LBMz3EINm6AcnH3qo, Tracks: 100)\n",
      "Playlist: 1987 Billboard Year End Hot 100 (ID: 4v0IqkegIMkKMYrLn68fmu, Tracks: 100)\n",
      "Playlist: 1986 Billboard Year End Hot 100 (ID: 4s9QnxZ3UtRnlgSOZOVf6e, Tracks: 99)\n",
      "Playlist: 1985 Billboard Year End Hot 100 (ID: 6rDLhG01GDJN3BL5T2iZP5, Tracks: 100)\n",
      "Playlist: 1984 Billboard Year End Hot 100 (ID: 3cKxmi9AQ0TPR7YkLbYfF1, Tracks: 100)\n",
      "Playlist: 1983 Billboard Year End Hot 100 (ID: 08iIWM6GhLfowC04fG5bq5, Tracks: 100)\n",
      "Playlist: 1982 Billboard Year End Hot 100 (ID: 1OjlmQ35tbJTFrCXSYaDyS, Tracks: 99)\n",
      "Playlist: 1981 Billboard Year End Hot 100 (ID: 3SRhmMj666ZYMtaQaGkl61, Tracks: 99)\n",
      "Playlist: 1980 Billboard Year End Hot 100 (ID: 6DVgHXWUWW93chgPL2FmqW, Tracks: 100)\n",
      "Playlist: 1979 Billboard Year End Hot 100 (ID: 3pvPpm0RcnexTEpELntKHR, Tracks: 100)\n",
      "Playlist: 1978 Billboard Year End Hot 100 (ID: 1q7iF3lIBNawQp8JBDApty, Tracks: 100)\n",
      "Playlist: 1977 Billboard Year End Hot 100 (ID: 2u2HiU1AfTpNfLfBu7voXj, Tracks: 100)\n",
      "Playlist: 1976 Billboard Year End Hot 100 (ID: 1fmEvEfr4x0oYO6vr7eETM, Tracks: 100)\n",
      "Playlist: 1975 Billboard Year End Hot 100 (ID: 0uotNCnpPzLepOkUr1G5mO, Tracks: 100)\n",
      "Playlist: 1974 Billboard Year End Hot 100 (ID: 2r6noskVcQ0I0erHFoJjez, Tracks: 100)\n",
      "Playlist: 1973 Billboard Year End Hot 100 (ID: 2P1uxAVToyuHZnOVC6OQ4k, Tracks: 100)\n",
      "Playlist: 1972 Billboard Year End Hot 100 (ID: 3lO9iUXGwfGXWW9rDmO1Bx, Tracks: 100)\n",
      "Playlist: 1971 Billboard Year End Hot 100 (ID: 55eckyTidfKsak7RWQJ5mT, Tracks: 99)\n",
      "Playlist: 1970 Billboard Year End Hot 100 (ID: 3veCA7WKD6sCrYDNDB7Cct, Tracks: 100)\n",
      "Playlist: 1969 Billboard Year End Hot 100 (ID: 0GyTFbNYmyVxwq48IEzY3U, Tracks: 101)\n",
      "Playlist: 1968 Billboard Year End Hot 100 (ID: 1W1hFJ7VaVWqwjirhynQ1W, Tracks: 100)\n",
      "Playlist: 1967 Billboard Year End Hot 100 (ID: 0K0pQL9LR6VnL78ybJX1s5, Tracks: 100)\n",
      "Playlist: 1966 Billboard Year End Hot 100 (ID: 6X2ACYuWxadsdVtxzzYwkz, Tracks: 100)\n",
      "Playlist: 1965 Billboard Year End Hot 100 (ID: 1mhbSuQXNRkTvR3PfXjxVn, Tracks: 100)\n",
      "Playlist: 1964 Billboard Year End Hot 100 (ID: 3uBThzd0MmSMBNcR8NUMg3, Tracks: 100)\n",
      "Playlist: 1963 Billboard Year End Hot 100 (ID: 4mvApdFqPwJ435Ba292eQ9, Tracks: 100)\n",
      "Playlist: 1962 Billboard Year End Hot 100 (ID: 5sdqJR3OnCw9HYYL3sxnV0, Tracks: 100)\n",
      "Playlist: 1961 Billboard Year End Hot 100 (ID: 1w2q3SLSXhy7gENztUT6se, Tracks: 100)\n",
      "Playlist: 1960 Billboard Year End Hot 100 (ID: 39fF0HUC7G5MhYW3BEXmVZ, Tracks: 99)\n",
      "Playlist: 1959 Billboard Year End Hot 100 (ID: 2VVrYKGFAcSqJboHpH9qOl, Tracks: 100)\n",
      "Playlist: 1958 Billboard Year End Top 50 (ID: 1Hr5KFMtNdKMWQ4EPRYRqo, Tracks: 51)\n",
      "Playlist: 1957 Billboard Year End Top 50 (ID: 68xmrrjQRmkrYzWWNd3NE1, Tracks: 50)\n",
      "Playlist: 1956 Billboard Year End Top 50 (ID: 5XW5ed46AmhibILzjDeHgd, Tracks: 50)\n",
      "Playlist: 1955 Billboard Year End Top 30 (ID: 5fdLZuQ7DHInpNlXDJ2NZr, Tracks: 30)\n",
      "Playlist: 1954 Billboard Year End Top 30 (ID: 1HYR7Ri31tDTUoOmBBktxo, Tracks: 30)\n",
      "Playlist: 1953 Billboard Year End Top 30 (ID: 1ljjKYMyzwTwGxQWqOMx54, Tracks: 30)\n",
      "Playlist: 1952 Billboard Year End Top 30 (ID: 6044pJXGsMY4tCiNTFP0PL, Tracks: 30)\n",
      "Playlist: 1951 Billboard Year End Top 30 (ID: 6ts7Fvcmv6NpgVqVcsmEJJ, Tracks: 30)\n",
      "Playlist: 1950 Billboard Year End Top 30 (ID: 2GqsvXBScxYC4sW2pnZJ9L, Tracks: 30)\n",
      "Playlist: 1949 Billboard Year End Top 30 (ID: 0BkkA4npEyWA9MYtl1FHNS, Tracks: 30)\n",
      "Playlist: 1948 Billboard Year End Top Hits (ID: 3QqotrZELIeVvxbmpjoUiz, Tracks: 38)\n",
      "Playlist: 1947 Billboard Year End Top Hits (ID: 6TuONXqvPgtck1kCYwhWKH, Tracks: 46)\n",
      "Playlist: 1946 Billboard Year End Top Hits (ID: 6deNahdqTobzuX7y2e5rVR, Tracks: 40)\n"
     ]
    }
   ],
   "source": [
    "def get_user_playlists(user_id):\n",
    "\n",
    "    playlists = []\n",
    "    results = sp.user_playlists(user_id)\n",
    "\n",
    "    while results:\n",
    "        for playlist in results[\"items\"]:\n",
    "            playlists.append({\n",
    "                \"name\": playlist[\"name\"],\n",
    "                \"id\": playlist[\"id\"],\n",
    "                \"tracks\": playlist[\"tracks\"][\"total\"],\n",
    "                \"snapshot_id\": playlist[\"snapshot_id\"]\n",
    "            })\n",
    "\n",
    "        results = sp.next(results) if results[\"next\"] else None\n",
    "\n",
    "    return playlists\n",
    "\n",
    "user_id = \"31zq3uw3m45cxpbmhsuctbph7ucm\"\n",
    "playlists = get_user_playlists(user_id)\n",
    "\n",
    "\n",
    "for p in playlists:\n",
    "    print(f\"Playlist: {p['name']} (ID: {p['id']}, Tracks: {p['tracks']})\")\n",
    "\n",
    "df = pd.DataFrame(playlists)\n",
    "\n"
   ]
  },
  {
   "cell_type": "code",
   "execution_count": 7,
   "metadata": {},
   "outputs": [],
   "source": [
    "df = df[df[\"tracks\"] >= 90]"
   ]
  },
  {
   "cell_type": "code",
   "execution_count": 8,
   "metadata": {},
   "outputs": [],
   "source": [
    "output_file = f\"year_end_hot_100_playlists.csv\"\n",
    "df.to_csv(output_file, index=False)"
   ]
  },
  {
   "cell_type": "code",
   "execution_count": null,
   "metadata": {},
   "outputs": [],
   "source": []
  }
 ],
 "metadata": {
  "kernelspec": {
   "display_name": "sta220",
   "language": "python",
   "name": "python3"
  },
  "language_info": {
   "codemirror_mode": {
    "name": "ipython",
    "version": 3
   },
   "file_extension": ".py",
   "mimetype": "text/x-python",
   "name": "python",
   "nbconvert_exporter": "python",
   "pygments_lexer": "ipython3",
   "version": "3.8.19"
  }
 },
 "nbformat": 4,
 "nbformat_minor": 2
}
